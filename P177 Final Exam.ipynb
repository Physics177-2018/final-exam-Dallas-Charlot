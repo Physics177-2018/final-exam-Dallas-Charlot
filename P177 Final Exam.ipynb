{
 "cells": [
  {
   "cell_type": "markdown",
   "metadata": {},
   "source": [
    "# P177: Final Exam\n",
    "Spring 2018\n",
    "\n",
    "**Due:** please complete by **Friday, June 15th**.  \n",
    "Pro-tip: do this way before then. \n",
    "\n",
    "**iEval:** please complete the [iEval](https://ieval.ucr.edu/) before **Friday, June 8th**. \n",
    "\n",
    "\n",
    "Dallas Charlot"
   ]
  },
  {
   "cell_type": "markdown",
   "metadata": {},
   "source": [
    "## 1. Kaggle Tutorial \n",
    "\n",
    "1. Create a Kaggle account and navigate to the \"[Titanic: Machine Learning from Disaster](https://www.kaggle.com/c/titanic)\" competition. Read a bit about the challenge.\n",
    "\n",
    "2. Navigate to Helge Bjorland's \"[Interactive Data Science Tutorial](https://www.kaggle.com/helgejo/an-interactive-data-science-tutorial)\" that uses the Titanic dataset. (**Note:** in class we used [Rochelle Silva's tutorial](https://www.kaggle.com/rochellesilva/simple-tutorial-for-beginners), the Bjorland tutorial is probably a little more insightful.) \n",
    "\n",
    "3. **Fork** the tutorial and go through it. Run everything. You are not required to complete the \"exercises\" (cells where you have to type code), but you get extra credit if you do.\n",
    "\n",
    "4. Download the completed tutorial as a Jupyter notebook (`ipynb` file). Upload that notebook to your GitHub repository for this final."
   ]
  },
  {
   "cell_type": "markdown",
   "metadata": {},
   "source": [
    "## 2. Answer the Following Questions\n",
    "\n",
    "These are real questions where I'd like you to write a few sentences about your code. The goal is to show that you've thought carefully about your code and can say something insightful about your work. "
   ]
  },
  {
   "cell_type": "markdown",
   "metadata": {},
   "source": [
    "### a) What was your favorite homework problem? What did you learn from doing it?\n",
    "\n",
    "My favorite problem was charting the drunkard's walk. All the patterns that could be created from a random walk were fun to look at. I learned that tru randomness is hard to come by and dictionaries need to stop changing/adding definitions because people don't know how to use words properly."
   ]
  },
  {
   "cell_type": "markdown",
   "metadata": {},
   "source": [
    "### b) What was the most difficult problem? What was confusing or frustrating about it?\n",
    "\n",
    "Homework 7b's problem where we had to do the coarse grain. I think it was difficult due to multiple hiccups in previous homeworks that just piled up into one big mess."
   ]
  },
  {
   "cell_type": "markdown",
   "metadata": {},
   "source": [
    "### c) In your own words, give an example of a problem where you would use Markov Chain Monte Carlo (MCMC). Briefly describe how MCMC works.\n",
    "\n",
    "We used the MCMC to model the path that a drunkard follows when attempting to walk in a straight line. MCMC works by picking a random number that leads to the path moving in one of four directions. Then after taking that step the process of picking a random number and moving is repeated."
   ]
  },
  {
   "cell_type": "markdown",
   "metadata": {},
   "source": [
    "### d) ELI5: Pick one technical idea from the course and explain it to a five-year-old.\n",
    "\n",
    "Riemann sum integration (given I have a picture of the graph to show them because only a crazy person would try to explain a concept using only words to a five year old):\n",
    "\n",
    "So you know how older people call the big soda bottles a two-liter bottle? That's because the bottle have two liters of soda in them. Well riemann sum integration can figure out how much soda we have in this space on the paper. Think of the straight line like the bottom of the bottle and this curvy line up top as the cap. Now we just slam on the keyboard a little bit and we'll know how much soda we have on the paper."
   ]
  },
  {
   "cell_type": "markdown",
   "metadata": {},
   "source": [
    "## 3. Evaluation (not for a grade)\n",
    "\n",
    "I hope you filled out the `iEval` before Jun 8th. In this cell, please feel free to share constructive criticism about the course. What did you like? What did you not like? Are there topics that you really wish we covered or didn't cover? What should I know to be a better lecturer?\n",
    "\n",
    "The midterm was wonderful and I hated the last few homeworks, but we can just chalk that up to it being spring quarter. I also enjoyed the MCMC coding assignments. Your lectures were perfect for this course not requiring any python knowledge before hand and expecting you to teach us fucking everything. You left room for challenge but also showed us the way. I have no complaints."
   ]
  },
  {
   "cell_type": "markdown",
   "metadata": {},
   "source": [
    "## Closing thoughts\n",
    "\n",
    "It's been a real joy to be part of this class---I was really impressed by each of your midterm presentations and have had a lot of fun with our discussions. In whatever is ahead of you beyond this class, I look forward to hearing how you each succeed.\n",
    "\n",
    "I encourage you to make your GitHub repositories public (you may need to duplicate them) so that you can show them off to the world."
   ]
  }
 ],
 "metadata": {
  "kernelspec": {
   "display_name": "Python 3",
   "language": "python",
   "name": "python3"
  },
  "language_info": {
   "codemirror_mode": {
    "name": "ipython",
    "version": 3
   },
   "file_extension": ".py",
   "mimetype": "text/x-python",
   "name": "python",
   "nbconvert_exporter": "python",
   "pygments_lexer": "ipython3",
   "version": "3.6.4"
  }
 },
 "nbformat": 4,
 "nbformat_minor": 2
}
